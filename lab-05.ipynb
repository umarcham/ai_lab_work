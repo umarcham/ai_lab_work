{
  "nbformat": 4,
  "nbformat_minor": 0,
  "metadata": {
    "colab": {
      "provenance": []
    },
    "kernelspec": {
      "name": "python3",
      "display_name": "Python 3"
    },
    "language_info": {
      "name": "python"
    }
  },
  "cells": [
    {
      "cell_type": "code",
      "execution_count": 5,
      "metadata": {
        "colab": {
          "base_uri": "https://localhost:8080/"
        },
        "id": "PAVOhs6gGsjS",
        "outputId": "5c50696e-f57a-4af8-e586-23ed26f1096b"
      },
      "outputs": [
        {
          "output_type": "stream",
          "name": "stdout",
          "text": [
            "Best configuration: [0, 4, 6, 1, 3, 7, 5, 3]\n",
            "Number of attacking pairs: 2\n"
          ]
        }
      ],
      "source": [
        "import random\n",
        "import math\n",
        "\n",
        "def calculate_attacks(board):\n",
        "    attacks = 0\n",
        "    n = len(board)\n",
        "    for i in range(n):\n",
        "        for j in range(i + 1, n):\n",
        "            if board[i] == board[j] or abs(board[i] - board[j]) == abs(i - j):\n",
        "                attacks += 1\n",
        "    return attacks\n",
        "\n",
        "def generate_initial_board(n):\n",
        "    return [random.randint(0, n - 1) for _ in range(n)]\n",
        "\n",
        "def generate_neighbor(board):\n",
        "    new_board = board[:]\n",
        "    row = random.randint(0, len(board) - 1)\n",
        "    col = random.randint(0, len(board) - 1)\n",
        "    new_board[row] = col\n",
        "    return new_board\n",
        "\n",
        "def simulated_annealing(n, initial_temperature=1000, cooling_rate=0.99, max_iterations=10000):\n",
        "    current_board = generate_initial_board(n)\n",
        "    current_attacks = calculate_attacks(current_board)\n",
        "    temperature = initial_temperature\n",
        "    best_board = current_board\n",
        "    best_attacks = current_attacks\n",
        "\n",
        "    iteration = 0\n",
        "\n",
        "    while temperature > 1 and iteration < max_iterations:\n",
        "        neighbor = generate_neighbor(current_board)\n",
        "        neighbor_attacks = calculate_attacks(neighbor)\n",
        "        delta = current_attacks - neighbor_attacks\n",
        "\n",
        "        if delta > 0 or random.random() < math.exp(delta / temperature):\n",
        "            current_board = neighbor\n",
        "            current_attacks = neighbor_attacks\n",
        "\n",
        "            if current_attacks < best_attacks:\n",
        "                best_board = current_board\n",
        "                best_attacks = current_attacks\n",
        "\n",
        "        temperature *= cooling_rate\n",
        "        iteration += 1\n",
        "\n",
        "    return best_board, best_attacks\n",
        "\n",
        "n = 8\n",
        "best_board, best_attacks = simulated_annealing(n)\n",
        "\n",
        "print(f\"Best configuration: {best_board}\")\n",
        "print(f\"Number of attacking pairs: {best_attacks}\")\n"
      ]
    }
  ]
}