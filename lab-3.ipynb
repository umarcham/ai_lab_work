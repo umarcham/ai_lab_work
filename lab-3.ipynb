{
  "nbformat": 4,
  "nbformat_minor": 0,
  "metadata": {
    "colab": {
      "provenance": []
    },
    "kernelspec": {
      "name": "python3",
      "display_name": "Python 3"
    },
    "language_info": {
      "name": "python"
    }
  },
  "cells": [
    {
      "cell_type": "code",
      "execution_count": 1,
      "metadata": {
        "colab": {
          "base_uri": "https://localhost:8080/"
        },
        "id": "PAVOhs6gGsjS",
        "outputId": "34bfead8-0428-46f0-802d-279f5ac7e2ea"
      },
      "outputs": [
        {
          "output_type": "stream",
          "name": "stdout",
          "text": [
            "Path found: [(0, 0), (1, 0), (2, 0), (3, 0), (4, 0), (4, 1), (4, 2), (4, 3), (4, 4)]\n"
          ]
        }
      ],
      "source": [
        "from heapq import heappush, heappop\n",
        "\n",
        "class Node:\n",
        "    def __init__(self, position, parent=None):\n",
        "        self.position = position  # (x, y) coordinates\n",
        "        self.parent = parent  # Parent node\n",
        "        self.g = 0  # Cost from start to current node\n",
        "        self.h = 0  # Heuristic cost to goal\n",
        "        self.f = 0  # Total cost (g + h)\n",
        "\n",
        "    def __lt__(self, other):\n",
        "        return self.f < other.f\n",
        "\n",
        "def heuristic(a, b):\n",
        "    \"\"\"Calculate Manhattan distance as the heuristic.\"\"\"\n",
        "    return abs(a[0] - b[0]) + abs(a[1] - b[1])\n",
        "\n",
        "def a_star(start, end, grid):\n",
        "    \"\"\"\n",
        "    Perform A* algorithm to find the shortest path.\n",
        "\n",
        "    :param start: Tuple (x, y) for start position.\n",
        "    :param end: Tuple (x, y) for goal position.\n",
        "    :param grid: 2D list representing the grid (0 = free, 1 = obstacle).\n",
        "    :return: List of tuples representing the path from start to end.\n",
        "    \"\"\"\n",
        "    open_list = []\n",
        "    closed_list = set()\n",
        "\n",
        "    start_node = Node(start)\n",
        "    end_node = Node(end)\n",
        "\n",
        "    heappush(open_list, start_node)\n",
        "\n",
        "    while open_list:\n",
        "        current_node = heappop(open_list)\n",
        "        closed_list.add(current_node.position)\n",
        "\n",
        "        # Check if the goal is reached\n",
        "        if current_node.position == end_node.position:\n",
        "            path = []\n",
        "            while current_node:\n",
        "                path.append(current_node.position)\n",
        "                current_node = current_node.parent\n",
        "            return path[::-1]  # Return reversed path\n",
        "\n",
        "        # Generate neighbors\n",
        "        neighbors = [\n",
        "            (0, -1), (0, 1), (-1, 0), (1, 0)  # Left, Right, Up, Down\n",
        "        ]\n",
        "        for move in neighbors:\n",
        "            neighbor_pos = (current_node.position[0] + move[0],\n",
        "                            current_node.position[1] + move[1])\n",
        "\n",
        "            # Ensure neighbor is within bounds and walkable\n",
        "            if (0 <= neighbor_pos[0] < len(grid) and\n",
        "                0 <= neighbor_pos[1] < len(grid[0]) and\n",
        "                grid[neighbor_pos[0]][neighbor_pos[1]] == 0):\n",
        "\n",
        "                # Skip already visited nodes\n",
        "                if neighbor_pos in closed_list:\n",
        "                    continue\n",
        "\n",
        "                neighbor_node = Node(neighbor_pos, current_node)\n",
        "                neighbor_node.g = current_node.g + 1\n",
        "                neighbor_node.h = heuristic(neighbor_pos, end_node.position)\n",
        "                neighbor_node.f = neighbor_node.g + neighbor_node.h\n",
        "\n",
        "                # Add to open list if not already present\n",
        "                if not any(node.position == neighbor_pos and node.f <= neighbor_node.f\n",
        "                           for node in open_list):\n",
        "                    heappush(open_list, neighbor_node)\n",
        "\n",
        "    return None  # No path found\n",
        "\n",
        "# Example Usage\n",
        "if __name__ == \"__main__\":\n",
        "    # 0 = free space, 1 = obstacle\n",
        "    grid = [\n",
        "        [0, 1, 0, 0, 0],\n",
        "        [0, 1, 0, 1, 0],\n",
        "        [0, 0, 0, 1, 0],\n",
        "        [0, 1, 1, 1, 0],\n",
        "        [0, 0, 0, 0, 0]\n",
        "    ]\n",
        "    start = (0, 0)\n",
        "    end = (4, 4)\n",
        "\n",
        "    path = a_star(start, end, grid)\n",
        "    if path:\n",
        "        print(\"Path found:\", path)\n",
        "    else:\n",
        "        print(\"No path found.\")\n"
      ]
    }
  ]
}