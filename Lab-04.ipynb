{
  "nbformat": 4,
  "nbformat_minor": 0,
  "metadata": {
    "colab": {
      "provenance": []
    },
    "kernelspec": {
      "name": "python3",
      "display_name": "Python 3"
    },
    "language_info": {
      "name": "python"
    }
  },
  "cells": [
    {
      "cell_type": "code",
      "execution_count": 2,
      "metadata": {
        "colab": {
          "base_uri": "https://localhost:8080/"
        },
        "id": "PAVOhs6gGsjS",
        "outputId": "0f3f4419-54ff-4175-cd99-51c226027811"
      },
      "outputs": [
        {
          "output_type": "stream",
          "name": "stdout",
          "text": [
            "Iteration 1: Current = 0.8868021502354072, Value = 2.760790547279487\n",
            "Iteration 6: Current = 0.9142633739648207, Value = 2.821175978885745\n",
            "Iteration 7: Current = 0.9718053541379237, Value = 2.9428157702205597\n",
            "Iteration 8: Current = 1.020014688837657, Value = 3.0396287899060455\n",
            "Iteration 9: Current = 1.0588624987495783, Value = 3.1142602037401126\n",
            "Iteration 10: Current = 1.1312225800742803, Value = 3.24522579462721\n",
            "Iteration 11: Current = 1.1407176112549107, Value = 3.261633776392533\n",
            "Iteration 12: Current = 1.1690433123110175, Value = 3.309510983184955\n",
            "Iteration 14: Current = 1.1813887425350516, Value = 3.3298756091516557\n",
            "Iteration 15: Current = 1.2148650659231905, Value = 3.3835631352922038\n",
            "Iteration 21: Current = 1.258980678407993, Value = 3.450890365027322\n",
            "Iteration 22: Current = 1.302708436508674, Value = 3.5137844754838223\n",
            "Iteration 24: Current = 1.3302469823727863, Value = 3.551430895379241\n",
            "Iteration 27: Current = 1.360433220144874, Value = 3.590954334105745\n",
            "Iteration 29: Current = 1.412277770633093, Value = 3.6545825811079924\n",
            "Iteration 31: Current = 1.4521639034333698, Value = 3.699875611298638\n",
            "Iteration 32: Current = 1.5098431336972318, Value = 3.7597462464162503\n",
            "Iteration 33: Current = 1.5501976950570866, Value = 3.7976778864680423\n",
            "Iteration 34: Current = 1.6044697034835456, Value = 3.843555784537606\n",
            "Iteration 35: Current = 1.6855421814779217, Value = 3.901116280370336\n",
            "Iteration 36: Current = 1.7507832015539786, Value = 3.9378909873723154\n",
            "Iteration 38: Current = 1.7760156266001552, Value = 3.949831000472679\n",
            "Iteration 39: Current = 1.8096747819730108, Value = 3.963776311382979\n",
            "Iteration 40: Current = 1.8937611197278184, Value = 3.988713300318513\n",
            "Iteration 41: Current = 1.9630306942588704, Value = 3.998633270433019\n",
            "Iteration 45: Current = 1.9833693553014682, Value = 3.999723421656911\n",
            "Iteration 58: Current = 1.9997083851471147, Value = 3.9999999149607777\n",
            "\n",
            "Final Solution:\n",
            "Best Solution: x = 1.9997083851471147, Value = 3.9999999149607777\n"
          ]
        }
      ],
      "source": [
        "import random\n",
        "\n",
        "def hill_climbing(function, start, step_size, max_iterations, bounds):\n",
        "    current = start\n",
        "    current_value = function(current)\n",
        "\n",
        "    for iteration in range(max_iterations):\n",
        "        neighbor = current + random.uniform(-step_size, step_size)\n",
        "        neighbor = max(min(neighbor, bounds[1]), bounds[0])\n",
        "        neighbor_value = function(neighbor)\n",
        "\n",
        "        if neighbor_value > current_value:\n",
        "            current = neighbor\n",
        "            current_value = neighbor_value\n",
        "            print(f\"Iteration {iteration + 1}: Current = {current}, Value = {current_value}\")\n",
        "\n",
        "    return current, current_value\n",
        "\n",
        "if __name__ == \"__main__\":\n",
        "    def objective_function(x):\n",
        "        return -(x**2) + 4*x\n",
        "\n",
        "    start_point = random.uniform(0, 4)\n",
        "    step_size = 0.1\n",
        "    max_iters = 100\n",
        "    bounds = (0, 4)\n",
        "\n",
        "    best_solution, best_value = hill_climbing(objective_function, start_point, step_size, max_iters, bounds)\n",
        "    print(\"\\nFinal Solution:\")\n",
        "    print(f\"Best Solution: x = {best_solution}, Value = {best_value}\")\n"
      ]
    }
  ]
}